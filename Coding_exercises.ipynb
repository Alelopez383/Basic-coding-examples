{
 "cells": [
  {
   "cell_type": "markdown",
   "id": "c1169566",
   "metadata": {},
   "source": [
    "# Basic coding exercises using Python"
   ]
  },
  {
   "cell_type": "markdown",
   "id": "1a7317e5",
   "metadata": {},
   "source": [
    "## 1. Building a star"
   ]
  },
  {
   "cell_type": "code",
   "execution_count": 48,
   "id": "3a42272b",
   "metadata": {},
   "outputs": [],
   "source": [
    "def starfunc(r):\n",
    "    for x in range(r):\n",
    "        print(' '*(r-x-1)+'*'*(2*x+1))\n",
    "\n",
    "     "
   ]
  },
  {
   "cell_type": "code",
   "execution_count": 49,
   "id": "f9dcd92c",
   "metadata": {},
   "outputs": [
    {
     "name": "stdout",
     "output_type": "stream",
     "text": [
      "           *\n",
      "          ***\n",
      "         *****\n",
      "        *******\n",
      "       *********\n",
      "      ***********\n",
      "     *************\n",
      "    ***************\n",
      "   *****************\n",
      "  *******************\n",
      " *********************\n",
      "***********************\n"
     ]
    }
   ],
   "source": [
    "starfunc(12)"
   ]
  },
  {
   "cell_type": "markdown",
   "id": "7a3c0caf",
   "metadata": {},
   "source": [
    "## 2.  Bubble sort"
   ]
  },
  {
   "cell_type": "markdown",
   "id": "2e330da9",
   "metadata": {},
   "source": [
    "Bubble Sort is a simple sorting algorithm. It works by checking each item in the list to be sorted with the next, swapping them if they're in the wrong order.\n",
    "\n",
    "- Link: https://unipython.com/preguntas-de-entrevista-o-examen-sobre-lenguaje-python/"
   ]
  },
  {
   "cell_type": "code",
   "execution_count": 13,
   "id": "06a11597",
   "metadata": {},
   "outputs": [],
   "source": [
    "def bs(a):             # a = name of the lista\n",
    "    b=len(a)-1         # -1 because we always compare 2 adjacent values.\n",
    "    for x in range(b):\n",
    "        for y in range(b-x):\n",
    "            if a[y]>a[y+1]:\n",
    "                a[y],a[y+1]=a[y+1],a[y]\n",
    "    return a\n"
   ]
  },
  {
   "cell_type": "code",
   "execution_count": 12,
   "id": "7f1c939a",
   "metadata": {},
   "outputs": [
    {
     "data": {
      "text/plain": [
       "[3, 5, 6, 7, 32, 54, 87]"
      ]
     },
     "execution_count": 12,
     "metadata": {},
     "output_type": "execute_result"
    }
   ],
   "source": [
    "a=[32,5,3,6,7,54,87]\n",
    "bs(a)"
   ]
  },
  {
   "cell_type": "markdown",
   "id": "8e0b527f",
   "metadata": {},
   "source": [
    "## 3. Fibonacci Sequence\n",
    "\n",
    "Each number in the sequence is the sum of the two previous numbers. So the sequence is 0, 1, 1, 2, 3, 5, 8, 13, 21, 34, etc. The mathematical equation that describes it is An+2= An+1 + An.\n",
    " \n",
    "- Link: https://conpilar.kryptonsolid.com/3-formas-de-generar-la-secuencia-de-fibonacci-en-python/"
   ]
  },
  {
   "cell_type": "code",
   "execution_count": 15,
   "id": "305777c8",
   "metadata": {},
   "outputs": [
    {
     "name": "stdout",
     "output_type": "stream",
     "text": [
      "Enter the value of 'n': 15\n",
      "Fibonacci Sequence: \n",
      "0\n",
      "1\n",
      "1\n",
      "2\n",
      "3\n",
      "5\n",
      "8\n",
      "13\n",
      "21\n",
      "34\n",
      "55\n",
      "89\n",
      "144\n",
      "233\n",
      "377\n"
     ]
    }
   ],
   "source": [
    "# Program to generate the Fibonacci Sequence till n\n",
    "n=int(input(\"Enter the value of 'n': \"))\n",
    "\n",
    "# first two terms are first and second\n",
    "first=0\n",
    "second=1\n",
    "sum=0\n",
    "count=1\n",
    "print(\"Fibonacci Sequence: \")\n",
    "\n",
    "# Count should not be more then n.\n",
    "while(count<=n):    \n",
    "    print(sum)\n",
    "    count+=1\n",
    "    first=second\n",
    "    second=sum\n",
    "    sum=first+second"
   ]
  },
  {
   "cell_type": "markdown",
   "id": "27b3c582",
   "metadata": {},
   "source": [
    "## 4. Prime numbers\n",
    "- Link: https://ellibrodepython.com/numeros-primos-python#:~:text=Para%20determinar%20si%20un%20n%C3%BAmero,es%20primo%20y%20devolvemos%20False%20."
   ]
  },
  {
   "cell_type": "code",
   "execution_count": 59,
   "id": "ee0999c6",
   "metadata": {},
   "outputs": [],
   "source": [
    "def prime_num(num):\n",
    "    for n in range(2, num):\n",
    "        if num % n == 0:\n",
    "            print(\"Is not a prime number,\", n, \"is divisor.\")\n",
    "            return False\n",
    "    print(\"Is a prime number.\")\n",
    "    return True"
   ]
  },
  {
   "cell_type": "code",
   "execution_count": 60,
   "id": "ebca7109",
   "metadata": {},
   "outputs": [
    {
     "name": "stdout",
     "output_type": "stream",
     "text": [
      "Is a prime number.\n"
     ]
    },
    {
     "data": {
      "text/plain": [
       "True"
      ]
     },
     "execution_count": 60,
     "metadata": {},
     "output_type": "execute_result"
    }
   ],
   "source": [
    "prime_num(7)"
   ]
  },
  {
   "cell_type": "code",
   "execution_count": 61,
   "id": "9bdb1d8e",
   "metadata": {},
   "outputs": [],
   "source": [
    "# other way\n",
    "def prime_num(num, n=2):\n",
    "    if n >= num:\n",
    "        print(\"Is a prime number.\")\n",
    "        return True\n",
    "    elif num % n != 0:\n",
    "        return prime_num(num, n + 1)\n",
    "    else:\n",
    "        print(\"Is not a prime number,\", n, \"is divisor.\")\n",
    "        return False"
   ]
  },
  {
   "cell_type": "code",
   "execution_count": 62,
   "id": "843e1c20",
   "metadata": {},
   "outputs": [
    {
     "name": "stdout",
     "output_type": "stream",
     "text": [
      "Is not a prime number, 5 is divisor.\n"
     ]
    },
    {
     "data": {
      "text/plain": [
       "False"
      ]
     },
     "execution_count": 62,
     "metadata": {},
     "output_type": "execute_result"
    }
   ],
   "source": [
    "prime_num(25)"
   ]
  },
  {
   "cell_type": "markdown",
   "id": "f6c88b86",
   "metadata": {},
   "source": [
    "## 5. Counting Palindromes\n",
    "\n",
    "- Link: https://www.delftstack.com/es/howto/python/python-palindrome/\n",
    "- Link: https://misfragmentosdecodigo.eu/palindromos-con-python/#:~:text=es%20palindromo!%22)-,if%20len(texto)%20%3D%3D%20igual%3A%20print(%22El,contenido%20en%20la%20variable%20igual."
   ]
  },
  {
   "cell_type": "code",
   "execution_count": 74,
   "id": "b1474a27",
   "metadata": {},
   "outputs": [
    {
     "name": "stdout",
     "output_type": "stream",
     "text": [
      "Enter the word you want to evaluate: ana\n",
      "The word is a palindrome!\n"
     ]
    }
   ],
   "source": [
    "# Word\n",
    "\n",
    "equal, aux = 0, 0\n",
    "word = input(\"Enter the word you want to evaluate: \")\n",
    "for ind in reversed(range(0, len(word))):\n",
    "    if word[ind].lower() == word[aux].lower():\n",
    "        equal+= 1\n",
    "        aux+= 1\n",
    "    \n",
    "if len(word) == equal:\n",
    "        print(\"The word is a palindrome!\")\n",
    "    \n",
    "else:\n",
    "        print(\"The word is NOT a palindrome!\")"
   ]
  },
  {
   "cell_type": "code",
   "execution_count": 76,
   "id": "804d931a",
   "metadata": {},
   "outputs": [
    {
     "name": "stdout",
     "output_type": "stream",
     "text": [
      "anitalavalatina\n",
      "Palindrome\n"
     ]
    }
   ],
   "source": [
    "# other way\n",
    "word= input()\n",
    "if str(word)== str(word)[::-1]:\n",
    "    print('Palindrome')\n",
    "    \n",
    "else:\n",
    "    print('Not a palindrome')"
   ]
  },
  {
   "cell_type": "markdown",
   "id": "923f9c6f",
   "metadata": {},
   "source": [
    "# 6. Counting vowels/letters\n"
   ]
  },
  {
   "cell_type": "code",
   "execution_count": 83,
   "id": "95431f82",
   "metadata": {},
   "outputs": [
    {
     "name": "stdout",
     "output_type": "stream",
     "text": [
      "hello,my name is alejandra\n",
      "In the phrase: \" hello,my name is alejandra\" are 9 vowels.\n"
     ]
    }
   ],
   "source": [
    "phrase= input()\n",
    "def count_vowels(phrase):\n",
    "    count=0\n",
    "    for letter in phrase:\n",
    "        if letter in \"aeiouAEIOU\":\n",
    "            count += 1\n",
    "    return count\n",
    "\n",
    "number = count_vowels(phrase)\n",
    "print ( f'In the phrase: \" {phrase}\" are {number} vowels.')    "
   ]
  },
  {
   "cell_type": "markdown",
   "id": "809b58c2",
   "metadata": {},
   "source": [
    "\"y\" is not a vowel in this case"
   ]
  },
  {
   "cell_type": "code",
   "execution_count": 84,
   "id": "4a7873e6",
   "metadata": {},
   "outputs": [
    {
     "name": "stdout",
     "output_type": "stream",
     "text": [
      "hello , my name is Alejandra\n",
      "In the phrase: \" hello , my name is Alejandra\" are 8 vowels.\n"
     ]
    }
   ],
   "source": [
    "#only lower cases\n",
    "phrase= input()\n",
    "def count_vowels(phrase):\n",
    "    count=0\n",
    "    for letter in phrase:\n",
    "        if letter in \"aeiou\":\n",
    "            count += 1\n",
    "    return count\n",
    "\n",
    "\n",
    "number = count_vowels(phrase)\n",
    "\n",
    "print ( f'In the phrase: \" {phrase}\" are {number} vowels.')    \n"
   ]
  },
  {
   "cell_type": "code",
   "execution_count": null,
   "id": "b058e4f9",
   "metadata": {},
   "outputs": [],
   "source": []
  },
  {
   "cell_type": "code",
   "execution_count": null,
   "id": "d93696d5",
   "metadata": {},
   "outputs": [],
   "source": []
  }
 ],
 "metadata": {
  "kernelspec": {
   "display_name": "Python 3 (ipykernel)",
   "language": "python",
   "name": "python3"
  },
  "language_info": {
   "codemirror_mode": {
    "name": "ipython",
    "version": 3
   },
   "file_extension": ".py",
   "mimetype": "text/x-python",
   "name": "python",
   "nbconvert_exporter": "python",
   "pygments_lexer": "ipython3",
   "version": "3.9.12"
  }
 },
 "nbformat": 4,
 "nbformat_minor": 5
}
