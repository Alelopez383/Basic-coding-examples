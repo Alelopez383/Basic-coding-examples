{
 "cells": [
  {
   "cell_type": "markdown",
   "id": "7dc452e3",
   "metadata": {},
   "source": [
    "# Basic coding exercises using Python"
   ]
  },
  {
   "cell_type": "markdown",
   "id": "3d2332fe",
   "metadata": {},
   "source": [
    "## 1. Building a star\n",
    "- Link: https://unipython.com/preguntas-de-entrevista-o-examen-sobre-lenguaje-python/"
   ]
  },
  {
   "cell_type": "code",
   "execution_count": 48,
   "id": "3c8ea988",
   "metadata": {},
   "outputs": [],
   "source": [
    "def starfunc(r):\n",
    "    for x in range(r):\n",
    "        print(' '*(r-x-1)+'*'*(2*x+1))\n",
    "\n",
    "     "
   ]
  },
  {
   "cell_type": "code",
   "execution_count": 108,
   "id": "eab3fa3d",
   "metadata": {},
   "outputs": [
    {
     "name": "stdout",
     "output_type": "stream",
     "text": [
      "     *\n",
      "    ***\n",
      "   *****\n",
      "  *******\n",
      " *********\n",
      "***********\n"
     ]
    }
   ],
   "source": [
    "starfunc(6)"
   ]
  },
  {
   "cell_type": "markdown",
   "id": "87b9ae36",
   "metadata": {},
   "source": [
    "## 2.  Bubble sort"
   ]
  },
  {
   "cell_type": "markdown",
   "id": "a89243df",
   "metadata": {},
   "source": [
    "Bubble Sort is a simple sorting algorithm. It works by checking each item in the list to be sorted with the next, swapping them if they're in the wrong order.\n",
    "\n",
    "- Link: https://unipython.com/preguntas-de-entrevista-o-examen-sobre-lenguaje-python/"
   ]
  },
  {
   "cell_type": "code",
   "execution_count": 13,
   "id": "e2f85a54",
   "metadata": {},
   "outputs": [],
   "source": [
    "def bs(a):             # a = name of the list\n",
    "    b=len(a)-1         # -1 because we always compare 2 values.\n",
    "    for x in range(b):\n",
    "        for y in range(b-x):\n",
    "            if a[y]>a[y+1]:\n",
    "                a[y],a[y+1]=a[y+1],a[y]\n",
    "    return a\n"
   ]
  },
  {
   "cell_type": "code",
   "execution_count": 12,
   "id": "5b022cc6",
   "metadata": {},
   "outputs": [
    {
     "data": {
      "text/plain": [
       "[3, 5, 6, 7, 32, 54, 87]"
      ]
     },
     "execution_count": 12,
     "metadata": {},
     "output_type": "execute_result"
    }
   ],
   "source": [
    "a=[32,5,3,6,7,54,87]\n",
    "bs(a)"
   ]
  },
  {
   "cell_type": "markdown",
   "id": "0a27ce38",
   "metadata": {},
   "source": [
    "## 3. Fibonacci Sequence\n",
    "\n",
    "Each number in the sequence is the sum of the two previous numbers. So the sequence is 0, 1, 1, 2, 3, 5, 8, 13, 21, 34, etc. The mathematical equation that describes it is An+2= An+1 + An.\n",
    " \n",
    "- Link: https://conpilar.kryptonsolid.com/3-formas-de-generar-la-secuencia-de-fibonacci-en-python/"
   ]
  },
  {
   "cell_type": "code",
   "execution_count": 15,
   "id": "90d00bcd",
   "metadata": {},
   "outputs": [
    {
     "name": "stdout",
     "output_type": "stream",
     "text": [
      "Enter the value of 'n': 15\n",
      "Fibonacci Sequence: \n",
      "0\n",
      "1\n",
      "1\n",
      "2\n",
      "3\n",
      "5\n",
      "8\n",
      "13\n",
      "21\n",
      "34\n",
      "55\n",
      "89\n",
      "144\n",
      "233\n",
      "377\n"
     ]
    }
   ],
   "source": [
    "# generate the Fibonacci Sequence till n\n",
    "n=int(input(\"Enter the value of 'n': \"))\n",
    "\n",
    "# first two terms are first and second\n",
    "first=0\n",
    "second=1\n",
    "sum=0\n",
    "count=1\n",
    "print(\"Fibonacci Sequence: \")\n",
    "\n",
    "# Count should not be more than n.\n",
    "while(count<=n):    \n",
    "    print(sum)\n",
    "    count+=1\n",
    "    first=second\n",
    "    second=sum\n",
    "    sum=first+second"
   ]
  },
  {
   "cell_type": "markdown",
   "id": "b9ab237e",
   "metadata": {},
   "source": [
    "## 4. Prime numbers\n",
    "- Link: https://ellibrodepython.com/numeros-primos-python#:~:text=Para%20determinar%20si%20un%20n%C3%BAmero,es%20primo%20y%20devolvemos%20False%20."
   ]
  },
  {
   "cell_type": "code",
   "execution_count": 59,
   "id": "360df051",
   "metadata": {},
   "outputs": [],
   "source": [
    "def prime_num(num):\n",
    "    for n in range(2, num):\n",
    "        if num % n == 0:\n",
    "            print(\"Is not a prime number,\", n, \"is divisor.\")\n",
    "            return False\n",
    "    print(\"Is a prime number.\")\n",
    "    return True"
   ]
  },
  {
   "cell_type": "code",
   "execution_count": 60,
   "id": "77d0363a",
   "metadata": {},
   "outputs": [
    {
     "name": "stdout",
     "output_type": "stream",
     "text": [
      "Is a prime number.\n"
     ]
    },
    {
     "data": {
      "text/plain": [
       "True"
      ]
     },
     "execution_count": 60,
     "metadata": {},
     "output_type": "execute_result"
    }
   ],
   "source": [
    "prime_num(7)"
   ]
  },
  {
   "cell_type": "code",
   "execution_count": 61,
   "id": "32cb7d9d",
   "metadata": {},
   "outputs": [],
   "source": [
    "# other way\n",
    "def prime_num(num, n=2):\n",
    "    if n >= num:\n",
    "        print(\"Is a prime number.\")\n",
    "        return True\n",
    "    elif num % n != 0:\n",
    "        return prime_num(num, n + 1)\n",
    "    else:\n",
    "        print(\"Is not a prime number,\", n, \"is divisor.\")\n",
    "        return False"
   ]
  },
  {
   "cell_type": "code",
   "execution_count": 62,
   "id": "5c9a53ef",
   "metadata": {},
   "outputs": [
    {
     "name": "stdout",
     "output_type": "stream",
     "text": [
      "Is not a prime number, 5 is divisor.\n"
     ]
    },
    {
     "data": {
      "text/plain": [
       "False"
      ]
     },
     "execution_count": 62,
     "metadata": {},
     "output_type": "execute_result"
    }
   ],
   "source": [
    "prime_num(25)"
   ]
  },
  {
   "cell_type": "markdown",
   "id": "bb4bfd5f",
   "metadata": {},
   "source": [
    "## 5. Counting Palindromes\n",
    "\n",
    "- Link: https://www.delftstack.com/es/howto/python/python-palindrome/\n",
    "- Link: https://misfragmentosdecodigo.eu/palindromos-con-python/#:~:text=es%20palindromo!%22)-,if%20len(texto)%20%3D%3D%20igual%3A%20print(%22El,contenido%20en%20la%20variable%20igual."
   ]
  },
  {
   "cell_type": "code",
   "execution_count": 74,
   "id": "ae639f8a",
   "metadata": {},
   "outputs": [
    {
     "name": "stdout",
     "output_type": "stream",
     "text": [
      "Enter the word you want to evaluate: ana\n",
      "The word is a palindrome!\n"
     ]
    }
   ],
   "source": [
    "# Word\n",
    "\n",
    "equal, aux = 0, 0\n",
    "word = input(\"Enter the word you want to evaluate: \")\n",
    "for ind in reversed(range(0, len(word))):\n",
    "    if word[ind].lower() == word[aux].lower():\n",
    "        equal+= 1\n",
    "        aux+= 1\n",
    "    \n",
    "if len(word) == equal:\n",
    "        print(\"The word is a palindrome!\")\n",
    "    \n",
    "else:\n",
    "        print(\"The word is NOT a palindrome!\")"
   ]
  },
  {
   "cell_type": "code",
   "execution_count": 76,
   "id": "29f071ae",
   "metadata": {},
   "outputs": [
    {
     "name": "stdout",
     "output_type": "stream",
     "text": [
      "anitalavalatina\n",
      "Palindrome\n"
     ]
    }
   ],
   "source": [
    "# other way\n",
    "word= input()\n",
    "if str(word)== str(word)[::-1]:\n",
    "    print('Palindrome')\n",
    "    \n",
    "else:\n",
    "    print('Not a palindrome')"
   ]
  },
  {
   "cell_type": "markdown",
   "id": "4901abe6",
   "metadata": {},
   "source": [
    "# 6. Counting vowels/letters\n"
   ]
  },
  {
   "cell_type": "code",
   "execution_count": 83,
   "id": "26e92bf2",
   "metadata": {},
   "outputs": [
    {
     "name": "stdout",
     "output_type": "stream",
     "text": [
      "hello,my name is alejandra\n",
      "In the phrase: \" hello,my name is alejandra\" are 9 vowels.\n"
     ]
    }
   ],
   "source": [
    "phrase= input()\n",
    "def count_vowels(phrase):\n",
    "    count=0\n",
    "    for letter in phrase:\n",
    "        if letter in \"aeiouAEIOU\":\n",
    "            count += 1\n",
    "    return count\n",
    "\n",
    "number = count_vowels(phrase)\n",
    "print ( f'In the phrase: \" {phrase}\" are {number} vowels.')    "
   ]
  },
  {
   "cell_type": "markdown",
   "id": "6c759bc8",
   "metadata": {},
   "source": [
    "\"y\" is not a vowel in this case"
   ]
  },
  {
   "cell_type": "code",
   "execution_count": 84,
   "id": "d65492ed",
   "metadata": {},
   "outputs": [
    {
     "name": "stdout",
     "output_type": "stream",
     "text": [
      "hello , my name is Alejandra\n",
      "In the phrase: \" hello , my name is Alejandra\" are 8 vowels.\n"
     ]
    }
   ],
   "source": [
    "#only lower cases\n",
    "phrase= input()\n",
    "def count_vowels(phrase):\n",
    "    count=0\n",
    "    for letter in phrase:\n",
    "        if letter in \"aeiou\":\n",
    "            count += 1\n",
    "    return count\n",
    "\n",
    "\n",
    "number = count_vowels(phrase)\n",
    "\n",
    "print ( f'In the phrase: \" {phrase}\" are {number} vowels.')    \n"
   ]
  },
  {
   "cell_type": "markdown",
   "id": "136fbbc4",
   "metadata": {},
   "source": [
    "## 7. Sorting numbers"
   ]
  },
  {
   "cell_type": "code",
   "execution_count": 86,
   "id": "7a97c7fc",
   "metadata": {},
   "outputs": [
    {
     "name": "stdout",
     "output_type": "stream",
     "text": [
      "[4, 6, 18, 20, 89]\n"
     ]
    }
   ],
   "source": [
    "list = [\"18\", \"4\", \"20\", \"6\", \"89\"]\n",
    "list = [int(i) for i in list]\n",
    "list.sort()\n",
    "print (list)"
   ]
  },
  {
   "cell_type": "markdown",
   "id": "acbf15bc",
   "metadata": {},
   "source": [
    "## 8. Matching key-values pairs"
   ]
  },
  {
   "cell_type": "code",
   "execution_count": 99,
   "id": "3aebd151",
   "metadata": {},
   "outputs": [],
   "source": [
    "A0 = dict(zip(('a','b','c','d','e'),(1,2,3,4,5)))\n",
    "\n",
    "A1 = range(5)\n",
    "\n",
    "A2 = sorted([i for i in A1 if i in A0])\n",
    "\n",
    "A3 = sorted([A0[s] for s in A0])\n",
    "\n",
    "A4 = [i for i in A1 if i in A3]\n",
    "\n",
    "A5 = {i:i*i for i in A1}\n",
    "\n",
    "A6 = [[i,i*i] for i in A1]\n"
   ]
  },
  {
   "cell_type": "code",
   "execution_count": 100,
   "id": "c41f3778",
   "metadata": {},
   "outputs": [
    {
     "data": {
      "text/plain": [
       "{'a': 1, 'b': 2, 'c': 3, 'd': 4, 'e': 5}"
      ]
     },
     "execution_count": 100,
     "metadata": {},
     "output_type": "execute_result"
    }
   ],
   "source": [
    "A0"
   ]
  },
  {
   "cell_type": "code",
   "execution_count": 101,
   "id": "67d7c595",
   "metadata": {},
   "outputs": [
    {
     "data": {
      "text/plain": [
       "range(0, 5)"
      ]
     },
     "execution_count": 101,
     "metadata": {},
     "output_type": "execute_result"
    }
   ],
   "source": [
    "A1"
   ]
  },
  {
   "cell_type": "code",
   "execution_count": 102,
   "id": "4aa4c905",
   "metadata": {},
   "outputs": [
    {
     "data": {
      "text/plain": [
       "[]"
      ]
     },
     "execution_count": 102,
     "metadata": {},
     "output_type": "execute_result"
    }
   ],
   "source": [
    "A2"
   ]
  },
  {
   "cell_type": "code",
   "execution_count": 103,
   "id": "8afb6722",
   "metadata": {},
   "outputs": [
    {
     "data": {
      "text/plain": [
       "[1, 2, 3, 4, 5]"
      ]
     },
     "execution_count": 103,
     "metadata": {},
     "output_type": "execute_result"
    }
   ],
   "source": [
    "A3"
   ]
  },
  {
   "cell_type": "code",
   "execution_count": 104,
   "id": "00bf4010",
   "metadata": {},
   "outputs": [
    {
     "data": {
      "text/plain": [
       "[1, 2, 3, 4]"
      ]
     },
     "execution_count": 104,
     "metadata": {},
     "output_type": "execute_result"
    }
   ],
   "source": [
    "A4"
   ]
  },
  {
   "cell_type": "code",
   "execution_count": 105,
   "id": "34978ea0",
   "metadata": {},
   "outputs": [
    {
     "data": {
      "text/plain": [
       "{0: 0, 1: 1, 2: 4, 3: 9, 4: 16}"
      ]
     },
     "execution_count": 105,
     "metadata": {},
     "output_type": "execute_result"
    }
   ],
   "source": [
    "A5"
   ]
  },
  {
   "cell_type": "code",
   "execution_count": 106,
   "id": "dbdd5dc1",
   "metadata": {},
   "outputs": [
    {
     "data": {
      "text/plain": [
       "[[0, 0], [1, 1], [2, 4], [3, 9], [4, 16]]"
      ]
     },
     "execution_count": 106,
     "metadata": {},
     "output_type": "execute_result"
    }
   ],
   "source": [
    "A6"
   ]
  },
  {
   "cell_type": "code",
   "execution_count": null,
   "id": "1895811e",
   "metadata": {},
   "outputs": [],
   "source": []
  }
 ],
 "metadata": {
  "kernelspec": {
   "display_name": "Python 3 (ipykernel)",
   "language": "python",
   "name": "python3"
  },
  "language_info": {
   "codemirror_mode": {
    "name": "ipython",
    "version": 3
   },
   "file_extension": ".py",
   "mimetype": "text/x-python",
   "name": "python",
   "nbconvert_exporter": "python",
   "pygments_lexer": "ipython3",
   "version": "3.9.12"
  }
 },
 "nbformat": 4,
 "nbformat_minor": 5
}
