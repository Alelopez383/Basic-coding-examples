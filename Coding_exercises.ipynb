{
 "cells": [
  {
   "cell_type": "markdown",
   "id": "bddfabf5",
   "metadata": {},
   "source": [
    "# Códigos de prueba Python"
   ]
  },
  {
   "cell_type": "code",
   "execution_count": null,
   "id": "34761867",
   "metadata": {},
   "outputs": [],
   "source": [
    "# como hacer una estrella\n",
    "def pyfunc(r):\n",
    "    for x in range(r):\n",
    "        print(' '*(r-x-1)+'*'*(2*x+1))\n",
    "\n",
    "     "
   ]
  },
  {
   "cell_type": "code",
   "execution_count": 4,
   "id": "1e174704",
   "metadata": {},
   "outputs": [
    {
     "name": "stdout",
     "output_type": "stream",
     "text": [
      "           *\n",
      "          ***\n",
      "         *****\n",
      "        *******\n",
      "       *********\n",
      "      ***********\n",
      "     *************\n",
      "    ***************\n",
      "   *****************\n",
      "  *******************\n",
      " *********************\n",
      "***********************\n"
     ]
    }
   ],
   "source": [
    "   pyfunc(12)"
   ]
  },
  {
   "cell_type": "markdown",
   "id": "025972f5",
   "metadata": {},
   "source": [
    "# Algoritmo de ordenamiento burbuja"
   ]
  },
  {
   "cell_type": "markdown",
   "id": "bfaadf8b",
   "metadata": {},
   "source": [
    "El ordenamiento de burbuja (Bubble Sort en inglés) es un sencillo algoritmo de ordenamiento. Funciona revisando cada elemento de la lista que va a ser ordenada con el siguiente, intercambiándolos de posición si están en el orden equivocado.\n",
    "\n",
    "- Link: https://unipython.com/preguntas-de-entrevista-o-examen-sobre-lenguaje-python/"
   ]
  },
  {
   "cell_type": "code",
   "execution_count": 13,
   "id": "b338f1f8",
   "metadata": {},
   "outputs": [],
   "source": [
    "# Algoritmo ordenamiento burbuja\n",
    "def bs(a):             # a = nombre de la lista\n",
    "    b=len(a)-1         # menos 1 porque siempre comparamos 2 valores adyacentes.\n",
    "    for x in range(b):\n",
    "        for y in range(b-x):\n",
    "            if a[y]>a[y+1]:\n",
    "                a[y],a[y+1]=a[y+1],a[y]\n",
    "    return a\n"
   ]
  },
  {
   "cell_type": "code",
   "execution_count": 12,
   "id": "b3237bc0",
   "metadata": {},
   "outputs": [
    {
     "data": {
      "text/plain": [
       "[3, 5, 6, 7, 32, 54, 87]"
      ]
     },
     "execution_count": 12,
     "metadata": {},
     "output_type": "execute_result"
    }
   ],
   "source": [
    "a=[32,5,3,6,7,54,87]\n",
    "bs(a)"
   ]
  },
  {
   "cell_type": "markdown",
   "id": "57d3a77e",
   "metadata": {},
   "source": [
    "# Serie Fibonacci \n",
    " Cada número de la secuencia es la suma de los dos números anteriores. Entonces, la secuencia es 0, 1, 1, 2, 3, 5, 8, 13, 21, 34, etc. La ecuación matemática que lo describe es An+2= An+1 + An.\n",
    " \n",
    "- Link: https://conpilar.kryptonsolid.com/3-formas-de-generar-la-secuencia-de-fibonacci-en-python/"
   ]
  },
  {
   "cell_type": "code",
   "execution_count": 15,
   "id": "586eded7",
   "metadata": {},
   "outputs": [
    {
     "name": "stdout",
     "output_type": "stream",
     "text": [
      "Enter the value of 'n': 15\n",
      "Fibonacci Sequence: \n",
      "0\n",
      "1\n",
      "1\n",
      "2\n",
      "3\n",
      "5\n",
      "8\n",
      "13\n",
      "21\n",
      "34\n",
      "55\n",
      "89\n",
      "144\n",
      "233\n",
      "377\n"
     ]
    }
   ],
   "source": [
    "#Program to generate the Fibonacci Sequence till n\n",
    "n=int(input(\"Enter the value of 'n': \"))\n",
    "\n",
    "#first two terms are first and second\n",
    "first=0\n",
    "second=1\n",
    "sum=0\n",
    "count=1\n",
    "print(\"Fibonacci Sequence: \")\n",
    "\n",
    "# Count should not be more then n.\n",
    "while(count<=n):    \n",
    "    print(sum)\n",
    "    count+=1\n",
    "    first=second\n",
    "    second=sum\n",
    "    sum=first+second"
   ]
  },
  {
   "cell_type": "markdown",
   "id": "e741b030",
   "metadata": {},
   "source": [
    "# Números primos\n",
    "- Link: https://ellibrodepython.com/numeros-primos-python#:~:text=Para%20determinar%20si%20un%20n%C3%BAmero,es%20primo%20y%20devolvemos%20False%20."
   ]
  },
  {
   "cell_type": "code",
   "execution_count": 23,
   "id": "6b7786c9",
   "metadata": {},
   "outputs": [],
   "source": [
    "def es_primo(num):\n",
    "    for n in range(2, num):\n",
    "        if num % n == 0:\n",
    "            print(\"No es primo\", n, \"es divisor\")\n",
    "            return False\n",
    "    print(\"Es primo\")\n",
    "    return True"
   ]
  },
  {
   "cell_type": "code",
   "execution_count": 25,
   "id": "e6d96e26",
   "metadata": {},
   "outputs": [
    {
     "name": "stdout",
     "output_type": "stream",
     "text": [
      "No es primo 2 es divisor\n"
     ]
    },
    {
     "data": {
      "text/plain": [
       "False"
      ]
     },
     "execution_count": 25,
     "metadata": {},
     "output_type": "execute_result"
    }
   ],
   "source": [
    "es_primo(10)"
   ]
  },
  {
   "cell_type": "code",
   "execution_count": 26,
   "id": "0cc11e16",
   "metadata": {},
   "outputs": [],
   "source": [
    "def es_primo(num, n=2):\n",
    "    if n >= num:\n",
    "        print(\"Es primo\")\n",
    "        return True\n",
    "    elif num % n != 0:\n",
    "        return es_primo(num, n + 1)\n",
    "    else:\n",
    "        print(\"No es primo\", n, \"es divisor\")\n",
    "        return False"
   ]
  },
  {
   "cell_type": "code",
   "execution_count": 33,
   "id": "248ea7ae",
   "metadata": {},
   "outputs": [
    {
     "name": "stdout",
     "output_type": "stream",
     "text": [
      "No es primo 5 es divisor\n"
     ]
    },
    {
     "data": {
      "text/plain": [
       "False"
      ]
     },
     "execution_count": 33,
     "metadata": {},
     "output_type": "execute_result"
    }
   ],
   "source": [
    "es_primo(25)"
   ]
  },
  {
   "cell_type": "markdown",
   "id": "911ba6fd",
   "metadata": {},
   "source": [
    "# Contando palindromos\n",
    "\n",
    "- Link: https://www.delftstack.com/es/howto/python/python-palindrome/\n",
    "- Link: https://misfragmentosdecodigo.eu/palindromos-con-python/#:~:text=es%20palindromo!%22)-,if%20len(texto)%20%3D%3D%20igual%3A%20print(%22El,contenido%20en%20la%20variable%20igual."
   ]
  },
  {
   "cell_type": "code",
   "execution_count": 34,
   "id": "31058649",
   "metadata": {},
   "outputs": [
    {
     "name": "stdout",
     "output_type": "stream",
     "text": [
      "Ingrese la palabra que desea evaluar: palindromo\n",
      "El texto no es palindromo!\n"
     ]
    }
   ],
   "source": [
    "igual, aux = 0, 0\n",
    "texto = input(\"Ingrese la palabra que desea evaluar: \")\n",
    "for ind in reversed(range(0, len(texto))):\n",
    "  if texto[ind].lower() == texto[aux].lower():\n",
    "    igual += 1\n",
    "  aux += 1\n",
    "if len(texto) == igual:\n",
    "  print(\"El texto es palindromo!\")\n",
    "else:\n",
    "  print(\"El texto no es palindromo!\")"
   ]
  },
  {
   "cell_type": "code",
   "execution_count": 38,
   "id": "35ba4a08",
   "metadata": {},
   "outputs": [
    {
     "name": "stdout",
     "output_type": "stream",
     "text": [
      "reconocer\n",
      "Palindrome\n"
     ]
    }
   ],
   "source": [
    "word= input()\n",
    "if str(word)== str(word)[::-1]:\n",
    "    print('Palindrome')\n",
    "    \n",
    "else:\n",
    "    print('Not a palindrome')"
   ]
  },
  {
   "cell_type": "markdown",
   "id": "abf52b8c",
   "metadata": {},
   "source": [
    "# Counting vowels\n"
   ]
  },
  {
   "cell_type": "code",
   "execution_count": null,
   "id": "a10e687c",
   "metadata": {},
   "outputs": [],
   "source": [
    "phrase= input()\n",
    "def count_vowels(phrase):\n",
    "    count=0\n",
    "    for letter in phrase:\n",
    "        if letter in \"aeiouAEIOU\":\n",
    "            count += 1\n",
    "    return count\n",
    "\n",
    "number = count_vowels(phrase)\n",
    "print ( f'In the phrase: \" {phrase}\" are {number} vowels.')    "
   ]
  },
  {
   "cell_type": "code",
   "execution_count": null,
   "id": "0156fefe",
   "metadata": {},
   "outputs": [],
   "source": [
    "#only lower cases\n",
    "phrase= input()\n",
    "def count_vowels(phrase):\n",
    "    count=0\n",
    "    for letter in phrase:\n",
    "        if letter in \"aeiou\":\n",
    "            count += 1\n",
    "    return count\n",
    "\n",
    "\n",
    "number = count_vowels(phrase)\n",
    "\n",
    "print(number)\n",
    "\n",
    "print ( f'In the phrase: \" {phrase}\" are {number} vocales.')    \n"
   ]
  },
  {
   "cell_type": "code",
   "execution_count": null,
   "id": "cd2ea802",
   "metadata": {},
   "outputs": [],
   "source": []
  }
 ],
 "metadata": {
  "kernelspec": {
   "display_name": "Python 3 (ipykernel)",
   "language": "python",
   "name": "python3"
  },
  "language_info": {
   "codemirror_mode": {
    "name": "ipython",
    "version": 3
   },
   "file_extension": ".py",
   "mimetype": "text/x-python",
   "name": "python",
   "nbconvert_exporter": "python",
   "pygments_lexer": "ipython3",
   "version": "3.9.12"
  }
 },
 "nbformat": 4,
 "nbformat_minor": 5
}
